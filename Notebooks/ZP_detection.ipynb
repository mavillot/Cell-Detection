{
  "nbformat": 4,
  "nbformat_minor": 0,
  "metadata": {
    "colab": {
      "provenance": [],
      "authorship_tag": "ABX9TyNQAe4A3+q8wdghfLnEvvEX",
      "include_colab_link": true
    },
    "kernelspec": {
      "name": "python3",
      "display_name": "Python 3"
    },
    "language_info": {
      "name": "python"
    }
  },
  "cells": [
    {
      "cell_type": "markdown",
      "metadata": {
        "id": "view-in-github",
        "colab_type": "text"
      },
      "source": [
        "<a href=\"https://colab.research.google.com/github/mavillot/Cell-Detection/blob/main/Notebooks/ZP_detection.ipynb\" target=\"_parent\"><img src=\"https://colab.research.google.com/assets/colab-badge.svg\" alt=\"Open In Colab\"/></a>"
      ]
    },
    {
      "cell_type": "markdown",
      "source": [
        "# An automatic model-based approach for measuring the Zona Pellucida (ZP) thickness in day five human blastocysts\n",
        "\n",
        "\n",
        "> Yee, D., Saeedi, P., & Havelock, J. (2013). AN AUTOMATIC MODEL-BASED APPROACH FORMEASURING THE ZONA PELLUCIDA THICKNESS IN DAY FIVE HUMAN BLASTOCYSTS.\n",
        "\n",
        "The proposed method consists in 5 sequential steps:\n",
        "1. Create the initial circular model for blastocyst\n",
        "2. Inner boundary ZP Detection\n",
        "3. Outer Boundary ZP Detection\n",
        "4. Refinement of boundaries detected\n",
        "5. Verification of ellipse models\n",
        "\n",
        "In this notebook we will be following the previous steps.\n"
      ],
      "metadata": {
        "id": "1iDCG4L1h2dF"
      }
    },
    {
      "cell_type": "code",
      "execution_count": 1,
      "metadata": {
        "id": "Hryc3VEU_wR7"
      },
      "outputs": [],
      "source": [
        "import cv2,os\n",
        "from matplotlib import pyplot as plt\n",
        "import numpy as np\n",
        "from PIL import Image\n",
        "import imutils\n",
        "from scipy import ndimage\n",
        "import time"
      ]
    },
    {
      "cell_type": "code",
      "source": [
        "import warnings\n",
        "warnings.filterwarnings(\"ignore\")"
      ],
      "metadata": {
        "id": "ob_fno-JbRT2"
      },
      "execution_count": 2,
      "outputs": []
    },
    {
      "cell_type": "code",
      "source": [
        "%%capture\n",
        "!unzip Images.zip"
      ],
      "metadata": {
        "id": "hPGTmPWiAZVr"
      },
      "execution_count": 3,
      "outputs": []
    },
    {
      "cell_type": "code",
      "source": [
        "files=['Images/'+ f for f in os.listdir('Images')]"
      ],
      "metadata": {
        "id": "NPNL88LaAlZD"
      },
      "execution_count": 4,
      "outputs": []
    },
    {
      "cell_type": "markdown",
      "source": [
        "# 1. Create Initial Circular Model for Blastocyst\n",
        "Creation of a simple circular model to determine the center mass and the radius of the blastocyst."
      ],
      "metadata": {
        "id": "YdIXOG7pFuyu"
      }
    },
    {
      "cell_type": "markdown",
      "source": [
        "#### 1.1. Edge detection with Canny"
      ],
      "metadata": {
        "id": "kXFOWY3tj75Z"
      }
    },
    {
      "cell_type": "code",
      "source": [
        "def canny_edges(img, u1=100,u2=150):\n",
        "  # kernel = np.ones((5,5),np.float32)/25\n",
        "  # dst = cv2.filter2D(img,-1,kernel)\n",
        "  return cv2.Canny(img,u1,u2)"
      ],
      "metadata": {
        "id": "-UvvUe0AD9ui"
      },
      "execution_count": 5,
      "outputs": []
    },
    {
      "cell_type": "markdown",
      "source": [
        "#### 1.2. Dilating the edges"
      ],
      "metadata": {
        "id": "g_jfxi9mll7V"
      }
    },
    {
      "cell_type": "code",
      "source": [
        "def dilating(img,N=3): \n",
        "  return cv2.dilate(img, np.ones((N,N), np.uint8))"
      ],
      "metadata": {
        "id": "xe0o2NDtD9ui"
      },
      "execution_count": 6,
      "outputs": []
    },
    {
      "cell_type": "markdown",
      "source": [
        "#### 1.3. Evaluating the convex hull of the connected edges"
      ],
      "metadata": {
        "id": "60P4EcwrlufX"
      }
    },
    {
      "cell_type": "code",
      "source": [
        "from skimage.morphology import convex_hull_image\n",
        "def convex_hull_centerMass(dilate):\n",
        "  cnts,_ = cv2.findContours(dilate.copy(), cv2.RETR_EXTERNAL, cv2.CHAIN_APPROX_SIMPLE)\n",
        "  perimeter=[]\n",
        "  # edges:\n",
        "  for c in cnts:\n",
        "    perimeter.append(cv2.arcLength(c, True))\n",
        "  # Calculate and get the largest edge\n",
        "  i=perimeter.index(max(perimeter))\n",
        "  contour=cv2.drawContours(cv2.cvtColor(np.zeros_like(dilate), cv2.COLOR_GRAY2BGR), cnts[i], -1, (0,255,0), 2)\n",
        "  # Center mass of the largest edge\n",
        "  M = cv2.moments(cnts[i])\n",
        "  cX = int(M[\"m10\"] / M[\"m00\"])\n",
        "  cY = int(M[\"m01\"] / M[\"m00\"])\n",
        "  return (convex_hull_image(cv2.cvtColor(contour, cv2.COLOR_BGR2GRAY)), (cX,cY))\n",
        "  #return de convex hull and the center mass"
      ],
      "metadata": {
        "id": "tjtTn4T9D9ui"
      },
      "execution_count": 7,
      "outputs": []
    },
    {
      "cell_type": "markdown",
      "source": [
        "#### 1.4. Calculate Sₚ (set of pixels along the perimeter). which is defined as it follows.\n",
        "\n",
        "$$ Sₚ= \\{pᵢ | pᵢ ∈ hull - eroded(hull)\\} $$\n"
      ],
      "metadata": {
        "id": "tnetSDu-nUfV"
      }
    },
    {
      "cell_type": "code",
      "source": [
        "def S_p(hull):\n",
        "  mask=np.zeros(hull.shape,dtype=np.uint8)\n",
        "  mask[hull==True]=255\n",
        "  return mask-cv2.erode(mask,np.ones((3,3), np.uint8))"
      ],
      "metadata": {
        "id": "280QE2nSD9ui"
      },
      "execution_count": 8,
      "outputs": []
    },
    {
      "cell_type": "markdown",
      "source": [
        "#### 1.5. Aproximation of the radius of the circle mask.\n",
        "\n",
        "The radius is given by the average of all the radial distances form the points $(p_{i,x},p_{i,y}) \\in S_p$  to the center mass $(x_c,y_c)$.\n",
        "\n",
        "$$r=\\frac{∑_{i}\\sqrt{(p_{i,x}-x_c)^2 + (p_{i,y}-y_c)^2}}{|S_p|}$$"
      ],
      "metadata": {
        "id": "TPPapWgsodXv"
      }
    },
    {
      "cell_type": "code",
      "source": [
        "def radio(sp,cMass):\n",
        "  Sp_points=[] #in this list we will save the points that are in the perimeter\n",
        "  y,x=sp.shape\n",
        "  for j in range(y):\n",
        "    for i in range(x):\n",
        "      if sp[j,i]==255: #Coordinates of the points that makes up the perimeter\n",
        "        Sp_points.append(np.array((i,j)))\n",
        "  # return the average distance between the center Mass and all the points of the perimeter\n",
        "  return np.mean([np.linalg.norm(np.array(cMass) - p) for p in Sp_points])"
      ],
      "metadata": {
        "id": "GzieOHc6D9ui"
      },
      "execution_count": 9,
      "outputs": []
    },
    {
      "cell_type": "markdown",
      "source": [
        "#### 1.6. Construction of the circular model"
      ],
      "metadata": {
        "id": "F9dweuJjraY0"
      }
    },
    {
      "cell_type": "code",
      "source": [
        "def circle_mask(img,cMass,r):\n",
        "  cX,cY=cMass\n",
        "  mask=np.zeros(img.shape)\n",
        "  try:\n",
        "    return(cv2.circle(mask, cMass, round(r), (255,0,0), -1))\n",
        "  except:\n",
        "    # In case the radius or cMass is not well calculated\n",
        "    return(np.ones(img.shape)*255)"
      ],
      "metadata": {
        "id": "drwJRqh2D9ui"
      },
      "execution_count": 10,
      "outputs": []
    },
    {
      "cell_type": "markdown",
      "source": [
        "#### Pipeline"
      ],
      "metadata": {
        "id": "J2ONWU_LrRjF"
      }
    },
    {
      "cell_type": "code",
      "source": [
        "def circularModel(gray,u1=70,u2=100):\n",
        "  # step 1.1. & step 1.2. & step 1.3.:\n",
        "  hull,cMass= convex_hull_centerMass(dilating(canny_edges(gray,u1,u2)))\n",
        "  # step 1.4. & 1.5 & step 1.6.:\n",
        "  return(circle_mask(gray,cMass,radio(S_p(hull), cMass)))"
      ],
      "metadata": {
        "id": "lMW1qxW00KCp"
      },
      "execution_count": 11,
      "outputs": []
    },
    {
      "cell_type": "markdown",
      "source": [
        "# 2. Inner Boundary ZP Deteccion\n",
        "In this step, the inner boundary ZP is detected. \n",
        "\n",
        "The installation of the following library is needed in order to obtain the phase congruency of the image."
      ],
      "metadata": {
        "id": "uEcpm9lNG81k"
      }
    },
    {
      "cell_type": "code",
      "source": [
        "%%capture\n",
        "!git clone https://github.com/alimuldal/phasepack.git\n",
        "!python phasepack/setup.py install\n",
        "!pip install pyfftw"
      ],
      "metadata": {
        "id": "6U1SkEbgdEcN"
      },
      "execution_count": 12,
      "outputs": []
    },
    {
      "cell_type": "code",
      "source": [
        "import sys\n",
        "sys.path.insert(1, 'phasepack')\n",
        "from phasepack import phasecong"
      ],
      "metadata": {
        "id": "yOefzJS1gYoz"
      },
      "execution_count": 13,
      "outputs": []
    },
    {
      "cell_type": "markdown",
      "source": [
        "phasecong \n",
        "    Arguments:\n",
        "    -----------\n",
        "    <Name>      <Default>   <Description>\n",
        "    img             N/A     The input image\n",
        "    nscale          5       Number of wavelet scales, try values 3-6\n",
        "    norient         6       Number of filter orientations.\n",
        "    minWaveLength   3       Wavelength of smallest scale filter.\n",
        "    mult            2.1     Scaling factor between successive filters.\n",
        "    sigmaOnf        0.55    Ratio of the standard deviation of the Gaussian\n",
        "                            describing the log Gabor filter's transfer function\n",
        "                            in the frequency domain to the filter center\n",
        "                            frequency.\n",
        "    k               2.0     No. of standard deviations of the noise energy\n",
        "                            beyond the mean at which we set the noise threshold\n",
        "                            point. You may want to vary this up to a value of\n",
        "                            10 or 20 for noisy images.\n",
        "    cutOff          0.5     The fractional measure of frequency spread below\n",
        "                            which phase congruency values get penalized.\n",
        "    g               10      Controls the 'sharpness' of the transition in the\n",
        "                            sigmoid function used to weight phase congruency\n",
        "                            for frequency spread.\n",
        "    noiseMethod     -1      Parameter specifies method used to determine\n",
        "                            noise statistics.\n",
        "                            -1 use median of smallest scale filter responses\n",
        "                            -2 use mode of smallest scale filter responses\n",
        "                            >=0 use this value as the fixed noise threshold\n",
        "\n",
        "    Returns:\n",
        "    ---------\n",
        "    M       Maximum moment of phase congruency covariance, which can be used as\n",
        "            a measure of edge strength\n",
        "    m       Minimum moment of phase congruency covariance, which can be used as\n",
        "            a measure of corner strength\n",
        "    ori     Orientation image, in integer degrees (0-180), positive angles\n",
        "            anti-clockwise.\n",
        "    ft      Local weighted mean phase angle at every point in the image. A\n",
        "            value of pi/2 corresponds to a bright line, 0 to a step and -pi/2\n",
        "            to a dark line.\n",
        "    PC      A list of phase congruency images (values between 0 and 1), one per\n",
        "            orientation.\n",
        "    EO      A list containing the complex-valued convolution results (see\n",
        "            below)\n",
        "    T       Calculated noise threshold (can be useful for diagnosing noise\n",
        "            characteristics of images). Once you know this you can then specify\n",
        "            fixed thresholds and save some computation time.\n"
      ],
      "metadata": {
        "id": "4sBQmI0u6Hj1"
      }
    },
    {
      "cell_type": "markdown",
      "source": [
        "#### 2.1. Calculate the phase congruency in each orientation"
      ],
      "metadata": {
        "id": "zd9iS6fr8Gyi"
      }
    },
    {
      "cell_type": "markdown",
      "source": [
        "#### 2.2. Thresholding each phase congruency image\n",
        "\n",
        "PC images are float images with a small range of values. In order to threshold the image, an equalization of the image is needed."
      ],
      "metadata": {
        "id": "j2ktpqLj8fk8"
      }
    },
    {
      "cell_type": "code",
      "source": [
        "# The next function transform float images into int images with values in between [0,255]\n",
        "def equalize(img):\n",
        "  m=max(img.flatten())\n",
        "  img=img*255/m\n",
        "  img=np.uint8(img)\n",
        "  return img"
      ],
      "metadata": {
        "id": "8ZUuO1HI3VMP"
      },
      "execution_count": 14,
      "outputs": []
    },
    {
      "cell_type": "code",
      "source": [
        "#return a list of the 6 thresholded PC images\n",
        "def thresh_pc(PC):\n",
        "  thresh=[]\n",
        "  for i in range(6):\n",
        "    thresh.append(cv2.threshold(equalize(PC[i]),127,255,cv2.THRESH_BINARY)[1])\n",
        "  return thresh"
      ],
      "metadata": {
        "id": "qiZ1gh327a9l"
      },
      "execution_count": 15,
      "outputs": []
    },
    {
      "cell_type": "markdown",
      "source": [
        "#### 2.3. Edge candidates\n",
        "Considering the perimeter (not area) of the connected edge pieces in each orientation."
      ],
      "metadata": {
        "id": "eWCErMgv9Vz0"
      }
    },
    {
      "cell_type": "code",
      "source": [
        "def inner_edge(thresh):\n",
        "  for i in range(1,7):\n",
        "    # we look for the connected edges:\n",
        "    cnts,_ = cv2.findContours(thresh[i-1].copy(), cv2.RETR_EXTERNAL, cv2.CHAIN_APPROX_SIMPLE)\n",
        "    perimeter=[]\n",
        "    for c in cnts:\n",
        "      # we calculate the perimeter and add it in the list\n",
        "      perimeter.append(cv2.arcLength(c, True))\n",
        "    # selecting the largest detected edges\n",
        "    indices=[k for k in range(len(perimeter)) if perimeter[k]>50]\n",
        "    # creation of image where we will draw the edges\n",
        "    ctr=cv2.cvtColor(np.zeros_like(thresh[i-1]), cv2.COLOR_GRAY2BGR)\n",
        "    for k in indices:\n",
        "      # drawing the selected edges\n",
        "      ctr=cv2.drawContours(ctr, cnts[k], -1, (0,255,0), 2)\n",
        "    if i==1:\n",
        "      edge=ctr\n",
        "    else:\n",
        "      edge=edge+ctr\n",
        "  edge=edge[:,:,1]\n",
        "  # thresholding the edge image\n",
        "  return cv2.threshold(edge,127,255,cv2.THRESH_BINARY)[1]"
      ],
      "metadata": {
        "id": "-XhfHEl196Bb"
      },
      "execution_count": 16,
      "outputs": []
    },
    {
      "cell_type": "markdown",
      "source": [
        "#### 2.4. Invalidating edge candidates with the circular model (step 1) and convex hull\n",
        "(*it invalidates far away candidates and candidates that do not coincide with the outer perimeter of the convex hull of all edges*)"
      ],
      "metadata": {
        "id": "fjhZGP5n_mkr"
      }
    },
    {
      "cell_type": "code",
      "source": [
        "from skimage.morphology import convex_hull_image\n",
        "def final_edges(initial_mask,edge):\n",
        "  # Invalidate far away candidates\n",
        "  edge[initial_mask==0]=0\n",
        "  # Calculate the convex hull of all the edges\n",
        "  hull = convex_hull_image(edge)\n",
        "  # Perimeter of the convex hull\n",
        "  ctr=S_p(hull)\n",
        "  # \n",
        "  EDGE_FINAL=np.zeros(ctr.shape)\n",
        "  EDGE_FINAL[ctr==255]=edge[ctr==255]\n",
        "  return(EDGE_FINAL)"
      ],
      "metadata": {
        "id": "a6ch0x1qAGQD"
      },
      "execution_count": 17,
      "outputs": []
    },
    {
      "cell_type": "markdown",
      "source": [
        "#### 2.5. Fitting final edges with an ellipse\n",
        "\n",
        "The first step is to obtain the coordinates of the points that made up the final edges."
      ],
      "metadata": {
        "id": "T0B0WKTMIm4v"
      }
    },
    {
      "cell_type": "code",
      "source": [
        "# Given the edge return the coordinates of all the points that make up the edge\n",
        "def coord(EDGE_FINAL):\n",
        "  x_data,y_data=[],[]\n",
        "  y,x=EDGE_FINAL.shape\n",
        "  for i in range(y):\n",
        "    for j in range(x):\n",
        "      if EDGE_FINAL[i,j]==255:\n",
        "        x_data.append(j)\n",
        "        y_data.append(i)\n",
        "  return (x_data, y_data)"
      ],
      "metadata": {
        "id": "MMfrYGA4O7Vx"
      },
      "execution_count": 18,
      "outputs": []
    },
    {
      "cell_type": "markdown",
      "source": [
        "Now, how do we find the ellipse that fit most of the points?\n",
        "\n",
        "##### **Conic equation of an ellipse**\n",
        "\n",
        "Considering the conic equation of an ellipse:\n",
        "$$Ax^2 + Bxy + Cy^2 + Dx + Ey + F = 0$$\n",
        "with $A>0$.\n",
        "\n",
        "For estimating the coefficients of the ellipse we fix $F=-1$, so our **ellipse equation** is now transformed to:\n",
        "$$Xβ=1$$\n",
        "\n",
        "with $X=[x^2,xy,y^2,x,y]$ and $β=[A,B,C,D,E]^T$\n"
      ],
      "metadata": {
        "id": "X9YjOGW6Z5I3"
      }
    },
    {
      "cell_type": "markdown",
      "source": [
        "\n",
        "##### **Estimation problem**\n",
        "\n",
        "\n",
        "\n",
        "Let \n",
        "\n",
        "*   $\\hat{β}$ denote the estimated vector of the parameters of $\\beta$\n",
        "*   $ Z=\\begin{bmatrix}\n",
        "      x_1^2 & x_1y_1 & y_1^2 & x_1 & y_1\\\\\n",
        "      x_2^2 & x_2y_2 & y_2^2 & x_2 & y_2\\\\\n",
        "      \\vdots & & & & \\\\\n",
        "      x_n^2 & x_ny_n & y_n^2  & x_n & y_n\\\\\n",
        "\\end{bmatrix} $ \n",
        "being $(x_i,y_i)$ the coordinates of the points from the final edge\n",
        "\n",
        "* $y= \\begin{bmatrix}\n",
        "1 \\\\\n",
        "1 \\\\\n",
        "\\vdots \\\\\n",
        "1 \\\\\n",
        "\\end{bmatrix}$ with dimensions $(n$ x $1)$\n",
        "\n",
        "To get our best estimated coefficients we need to solve the minimization problem by least square fitting.\n",
        "$$\\hat{β}= \\textrm{argmin} \\|y- Zβ\\|^2$$\n",
        "Solving the equation,\n",
        "$$\\hat{β}=(Z^TZ)^{-1}Z^Ty$$"
      ],
      "metadata": {
        "id": "S-D9WVBrJdZ3"
      }
    },
    {
      "cell_type": "code",
      "source": [
        "# Given the coordinates of the ellipse (data) this function return the estimated coefficients A,B,C,D,E.\n",
        "def estimated_coef(data):\n",
        "  X=[]\n",
        "  x_data,y_data=data\n",
        "  for i in range(len(x_data)):\n",
        "    x=x_data[i]\n",
        "    y=y_data[i]\n",
        "    X.append([x**2,x*y,y**2,x,y])\n",
        "  X=np.array(X) \n",
        "  coef=np.linalg.lstsq(X, np.ones((len(x_data),1)))\n",
        "  return(coef[0].flatten())"
      ],
      "metadata": {
        "id": "vy6iMPOSaxRB"
      },
      "execution_count": 19,
      "outputs": []
    },
    {
      "cell_type": "markdown",
      "source": [
        "##### **Parametric equation**\n",
        "\n",
        "To plot the ellipse, we need to get points that verify the equation. For that, we will use the polar coordinates.\n",
        "\n",
        "If we consider the *canonical equation* of the ellipse, $(x_c,y_c)$ are determined by: \n",
        "\n",
        "$$x_c=a⋅ \\cosα$$\n",
        "\n",
        "$$y_c=b⋅ \\sinα$$\n",
        "\n",
        "with $\\alpha ∈[0,2\\pi]$\n",
        "\n",
        "\n",
        "##### **Rotation**\n",
        "\n",
        "However, if $B\\neq 0$, our ellipse is rotated. Let $θ$ be the angle of rotation. The coordinates are determined by:\n",
        "\n",
        "$$\\begin{bmatrix}\n",
        "x \\\\\n",
        "y\\\\\n",
        "\\end{bmatrix} = \\begin{bmatrix}\n",
        "\\cos θ &  - \\sin θ\\\\\n",
        "\\sin θ &   \\cos θ\\\\\n",
        "\\end{bmatrix} \\cdot \\begin{bmatrix}\n",
        "x_c \\\\\n",
        "y_c \\\\\n",
        "\\end{bmatrix}$$\n",
        "\n",
        "\\\n",
        "\n",
        "$$x=a⋅ \\cosα \\ \\cosθ - b⋅ \\sinα \\ \\sinθ$$\n",
        "\n",
        "$$y=a⋅ \\cosα \\ \\sinθ + b⋅ \\sinα \\ \\cosθ$$ \n",
        "\n",
        "##### **Translation**\n",
        "\n",
        "Finally, if $x_0 \\neq 0$ or $y_0 \\neq 0$, our ellipse is translated with respect to the axis.\n",
        "\n",
        "$$x=x_0 + a⋅ \\cosα \\ \\cosθ - b⋅ \\sinα \\ \\sinθ$$\n",
        "\n",
        "$$y=y_0 + a⋅ \\cosα \\ \\sinθ + b⋅ \\sinα \\ \\cosθ$$ \n",
        "\n",
        "##### **Parameters**\n",
        "\n",
        "$a,b,x_0,y_0$ and $θ$ are determined by the following formulas:\n",
        "![image.png](data:image/png;base64,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)"
      ],
      "metadata": {
        "id": "YzDaAlgFb1lL"
      }
    },
    {
      "cell_type": "code",
      "source": [
        "# Given the coeficients [A,B,C,D,E] returns a,b,x0,y0,theta\n",
        "def parameters(coef): \n",
        "  s=np.sign(coef[0])\n",
        "  A = coef[0]*s\n",
        "  B = coef[1]*s\n",
        "  C = coef[2]*s\n",
        "  D = coef[3]*s\n",
        "  E = coef[4]*s\n",
        "  F = - 1.0 * s\n",
        "  a = -np.sqrt(2*(A*E**2 + C*D**2 - B*D*E + (B**2 - 4*A*C)*F)*((A+C) + np.sqrt((A-C)**2+B**2)))/(B**2-4*A*C)\n",
        "  b = -np.sqrt(2*(A*E**2 + C*D**2 - B*D*E + (B**2 - 4*A*C)*F)*((A+C) - np.sqrt((A-C)**2+B**2)))/(B**2-4*A*C)\n",
        "  x0 = (2*C*D-B*E)/(B**2-4*A*C);\n",
        "  y0 = (2*A*E-B*D)/(B**2-4*A*C);\n",
        "  if B !=0:\n",
        "    theta = np.arctan(1/B*(C-A-np.sqrt((A-C)**2+B**2)));\n",
        "  else:\n",
        "    if A<C:\n",
        "      theta=0\n",
        "    if A>C:\n",
        "      theta=np.pi/2\n",
        "  return(a,b,x0,y0,theta)"
      ],
      "metadata": {
        "id": "UFO00Ith3ePp"
      },
      "execution_count": 20,
      "outputs": []
    },
    {
      "cell_type": "code",
      "source": [
        "# Given a,b,x0,y0,theta, alpha returns the coordinates of the ellipse\n",
        "def ellipse(a,b,x0,y0,theta,alpha = np.linspace(0,2*np.pi,100)):\n",
        "  Xc =  a*np.cos(alpha);\n",
        "  Yc =  b*np.sin(alpha);\n",
        "  M = np.array([[np.cos(theta), -np.sin(theta)],[ np.sin(theta), np.cos(theta)]])\n",
        "  T=np.dot(M,np.array([Xc,Yc]))\n",
        "  if len(T.shape)>1:\n",
        "    X=x0 +T[0,:]\n",
        "    Y=y0 +T[1,:]\n",
        "  else:\n",
        "    X=x0 +T[0]\n",
        "    Y=y0 +T[1]\n",
        "  return(X,Y)"
      ],
      "metadata": {
        "id": "FS0UIf0qPMlp"
      },
      "execution_count": 22,
      "outputs": []
    },
    {
      "cell_type": "markdown",
      "source": [
        "#### Pipeline"
      ],
      "metadata": {
        "id": "iuBoKLHeIIaF"
      }
    },
    {
      "cell_type": "code",
      "source": [
        "def inner_boundary(img, initial_mask):\n",
        "  # step 1: calculate PC images in the 6 orientations\n",
        "  _,_,_,_,PC,_,_=phasecong(img)\n",
        "  # step 2: thresholding the 6 PC images\n",
        "  thresh=thresh_pc(PC)\n",
        "  # step 3: edge candidates\n",
        "  edge=inner_edge(thresh)\n",
        "  # step 4: invalidating far away candidates\n",
        "  EDGE_FINAL=final_edges(initial_mask,edge)\n",
        "  # step 5: ellipse\n",
        "  a,b,x0,y0,theta=parameters(estimated_coef(coord(EDGE_FINAL)))\n",
        "  # r_theta is the function that returns the coordinates in the angle alpha\n",
        "  r_theta=lambda alpha: ellipse(a,b,x0,y0,theta,alpha-theta)\n",
        "  return(ellipse(a,b,x0,y0,theta), (x0,y0) , r_theta)"
      ],
      "metadata": {
        "id": "43Q8F7QIkIEx"
      },
      "execution_count": 23,
      "outputs": []
    },
    {
      "cell_type": "code",
      "source": [
        "# Given the coordinates of the constructed ellipse (X,Y) returns the mask of the ellipse\n",
        "def MaskModel(img,X,Y):\n",
        "  y,x=img.shape\n",
        "  mask=np.zeros((y,x))\n",
        "  for i in range(len(X)):\n",
        "    x1,y1=round(X[i]),round(Y[i])\n",
        "    if y1<y and x1<x and x1>0 and y1>0:\n",
        "      mask[y1,x1]=255 \n",
        "  mask=convex_hull_image(mask)\n",
        "  mask_model=np.zeros(mask.shape,dtype='uint8')\n",
        "  mask_model[mask]=255\n",
        "  return mask_model"
      ],
      "metadata": {
        "id": "55fRzaH4D7Xq"
      },
      "execution_count": 24,
      "outputs": []
    },
    {
      "cell_type": "markdown",
      "source": [
        "# 3. Outer Boundary ZP Detection"
      ],
      "metadata": {
        "id": "lYhnILBs5D1I"
      }
    },
    {
      "cell_type": "markdown",
      "source": [
        "#### 3.1.Removing the image background T(I)"
      ],
      "metadata": {
        "id": "A9kJUQz856_X"
      }
    },
    {
      "cell_type": "code",
      "source": [
        "# Removes the background\n",
        "def background(img):\n",
        "  no_back=img- np.mean(img)\n",
        "  no_back[no_back<0]=0\n",
        "  return no_back"
      ],
      "metadata": {
        "id": "1yVHqsSLeQVk"
      },
      "execution_count": 25,
      "outputs": []
    },
    {
      "cell_type": "markdown",
      "source": [
        "#### 3.2. Union of Canny edges on T(I) and thresholded phase congruency of I"
      ],
      "metadata": {
        "id": "JCd4x1tD-04E"
      }
    },
    {
      "cell_type": "code",
      "source": [
        "def canny_pc(img):\n",
        "  canny=canny_edges(equalize(background(img)),u1=100,u2=200)\n",
        "  _,_,_,_,PC,_,_=phasecong(img,norient=1)\n",
        "  pc=cv2.threshold(equalize(PC[0]),127,255,cv2.THRESH_BINARY)[1]\n",
        "  return cv2.bitwise_or(pc,canny)"
      ],
      "metadata": {
        "id": "11fnVogooN4i"
      },
      "execution_count": 26,
      "outputs": []
    },
    {
      "cell_type": "markdown",
      "source": [
        "#### 3.3. Dilate mask and convex hull inner ZP"
      ],
      "metadata": {
        "id": "dx__rC87_IrW"
      }
    },
    {
      "cell_type": "code",
      "source": [
        "def convex_dilate(img,union, inner_mask):\n",
        "  return 255-cv2.bitwise_or(dilating(union),inner_mask)"
      ],
      "metadata": {
        "id": "QyG-bixsqIqJ"
      },
      "execution_count": 27,
      "outputs": []
    },
    {
      "cell_type": "markdown",
      "source": [
        "#### 3.4. Watershed segmentation"
      ],
      "metadata": {
        "id": "Ll_CyQD-ExDa"
      }
    },
    {
      "cell_type": "code",
      "source": [
        "from skimage.segmentation import watershed\n",
        "from skimage.feature import peak_local_max\n",
        "from scipy import ndimage as ndi\n",
        "from skimage.filters.rank.generic import threshold\n",
        "from skimage import filters"
      ],
      "metadata": {
        "id": "InJ1O0JbETMj"
      },
      "execution_count": 28,
      "outputs": []
    },
    {
      "cell_type": "code",
      "source": [
        "def watershed_seg(img,union):\n",
        "  dist_img=ndi.distance_transform_edt(union)\n",
        "  local_max=peak_local_max(dist_img, indices=False, min_distance=3, labels=union)\n",
        "  markers=ndi.label(local_max, structure=np.ones((3, 3)))[0]\n",
        "  labels=watershed(-dist_img, markers, mask=union) \n",
        "  return cv2.watershed(cv2.cvtColor(equalize(img),cv2.COLOR_GRAY2RGB),markers)"
      ],
      "metadata": {
        "id": "LPe-VDFerIMo"
      },
      "execution_count": 29,
      "outputs": []
    },
    {
      "cell_type": "markdown",
      "source": [
        "#### 3.5. Remove regions of low intensity"
      ],
      "metadata": {
        "id": "Clwafprvzd3S"
      }
    },
    {
      "cell_type": "code",
      "source": [
        "def remove_low(img,markers,union):\n",
        "  u=union.copy()\n",
        "  media=np.mean(img)\n",
        "  av=[np.mean(img[markers==l]) for l in np.unique(markers) if l!=-1 and l!=-2]\n",
        "  for i in range(len(av)):\n",
        "    if av[i]<media: \n",
        "      u[markers==i]=255\n",
        "  # remove the edges of the watershed seg\n",
        "  u[markers==-1]=255\n",
        "  # remove regions that are inside the inner ellipse\n",
        "  u[markers==-2]=255\n",
        "  # remove all the labels from regions that are no longer candidates\n",
        "  m=markers.copy()\n",
        "  m[u==255]=-1\n",
        "  return u,m"
      ],
      "metadata": {
        "id": "82Vh3GKutyRf"
      },
      "execution_count": 30,
      "outputs": []
    },
    {
      "cell_type": "markdown",
      "source": [
        "#### 3.6. Removing weak candidates"
      ],
      "metadata": {
        "id": "K1RPeXTl0tS7"
      }
    },
    {
      "cell_type": "code",
      "source": [
        "def remove_weak(img,union,markers,x0,y0,r_theta):\n",
        "  r0=np.array((round(x0),round(y0)))\n",
        "  a,b=0.4,0.5\n",
        "  mean_img=np.mean(img)\n",
        "  matrix, S = union==0, np.zeros(img.shape)\n",
        "  y,x = matrix.shape\n",
        "  for i in range(y):\n",
        "    for j in range(x):\n",
        "      if matrix[i,j]:\n",
        "        x_= j - r0[0]\n",
        "        y_= i - r0[1]\n",
        "        d_s =np.sqrt(x_**2+y_**2)\n",
        "        X ,Y = r_theta(np.arctan2(y_, x_))\n",
        "        r= np.linalg.norm(r0-np.array((round(X),round(Y))))\n",
        "        lbl=markers[i,j]\n",
        "        mean_edge=np.mean(img[markers==lbl])\n",
        "        if d_s < (1+a)*r and mean_edge > b*mean_img:\n",
        "          S[i,j]=255  \n",
        "  return S"
      ],
      "metadata": {
        "id": "rybtM87P9iv-"
      },
      "execution_count": 31,
      "outputs": []
    },
    {
      "cell_type": "markdown",
      "source": [
        "#### Pipeline"
      ],
      "metadata": {
        "id": "vO8Wy5zQalQb"
      }
    },
    {
      "cell_type": "code",
      "source": [
        "def outer_boundary(img,inner_mask,x0,y0,r_theta):\n",
        "  union=convex_dilate(img,canny_pc(img),inner_mask)\n",
        "  markers=watershed_seg(img,union)\n",
        "  markers[inner_mask==255]=-2\n",
        "  union,markers=remove_low(img,markers,union)\n",
        "  S=remove_weak(img,union,markers,x0,y0,r_theta)\n",
        "  data=coord(S)\n",
        "  a,b,x0,y0,t=parameters(estimated_coef(data))\n",
        "  return ellipse(a,b,x0,y0,t)"
      ],
      "metadata": {
        "id": "UaIUvGQkFGzo"
      },
      "execution_count": 32,
      "outputs": []
    },
    {
      "cell_type": "markdown",
      "source": [
        "# STEPS: 1,2 & 3"
      ],
      "metadata": {
        "id": "pMBnZNtvvQ0J"
      }
    },
    {
      "cell_type": "code",
      "source": [
        "def ZPdetection(path):\n",
        "  # Read the image\n",
        "  img=cv2.imread(path)\n",
        "  if len(img.shape)==3:\n",
        "    img = cv2.cvtColor(img, cv2.COLOR_BGR2GRAY)\n",
        "  \n",
        "  # Initial Model\n",
        "  initial_mask=circularModel(img)\n",
        "  # Inner ZP Model\n",
        "  (X,Y),(x0,y0), r_theta=inner_boundary(img, initial_mask) \n",
        "  inner_mask=MaskModel(img,X,Y)\n",
        "  # Outer ZP Model\n",
        "  X,Y= outer_boundary(img,inner_mask,x0,y0,r_theta)\n",
        "  out_mask= MaskModel(img,X,Y)\n",
        "  return inner_mask,out_mask"
      ],
      "metadata": {
        "id": "LRiZhYVZ9w5j"
      },
      "execution_count": 34,
      "outputs": []
    },
    {
      "cell_type": "code",
      "source": [
        "start_time = time.time()\n",
        "inner_mask,out_mask=ZPdetection(files[0])\n",
        "print(\"--- %s seconds ---\" % (time.time() - start_time))"
      ],
      "metadata": {
        "colab": {
          "base_uri": "https://localhost:8080/"
        },
        "id": "CxlOhsQ8q9el",
        "outputId": "fc0fd01d-dcf8-4a17-e25e-523deb6fb15a"
      },
      "execution_count": 35,
      "outputs": [
        {
          "output_type": "stream",
          "name": "stdout",
          "text": [
            "--- 4.300745010375977 seconds ---\n"
          ]
        }
      ]
    },
    {
      "cell_type": "code",
      "source": [
        "plt.imshow(inner_mask)"
      ],
      "metadata": {
        "colab": {
          "base_uri": "https://localhost:8080/",
          "height": 286
        },
        "id": "LS7Fixwaudi0",
        "outputId": "3c0dd6c4-75e7-407d-ca5b-c09e0ecb0dbf"
      },
      "execution_count": 36,
      "outputs": [
        {
          "output_type": "execute_result",
          "data": {
            "text/plain": [
              "<matplotlib.image.AxesImage at 0x7f85bb8718e0>"
            ]
          },
          "metadata": {},
          "execution_count": 36
        },
        {
          "output_type": "display_data",
          "data": {
            "text/plain": [
              "<Figure size 432x288 with 1 Axes>"
            ],
            "image/png": "[encoded data removed]"
          },
          "metadata": {
            "needs_background": "light"
          }
        }
      ]
    },
    {
      "cell_type": "code",
      "source": [
        "plt.imshow(out_mask)"
      ],
      "metadata": {
        "colab": {
          "base_uri": "https://localhost:8080/",
          "height": 286
        },
        "id": "cW51Bn50u7s9",
        "outputId": "69101729-27e0-4ae4-83be-27bae99b3f7b"
      },
      "execution_count": 37,
      "outputs": [
        {
          "output_type": "execute_result",
          "data": {
            "text/plain": [
              "<matplotlib.image.AxesImage at 0x7f85bb985250>"
            ]
          },
          "metadata": {},
          "execution_count": 37
        },
        {
          "output_type": "display_data",
          "data": {
            "text/plain": [
              "<Figure size 432x288 with 1 Axes>"
            ],
            "image/png": "[encoded data removed]"
          },
          "metadata": {
            "needs_background": "light"
          }
        }
      ]
    },
    {
      "cell_type": "markdown",
      "source": [
        "# 5 & 4. Refinement"
      ],
      "metadata": {
        "id": "7cj-h1lJvjtq"
      }
    },
    {
      "cell_type": "code",
      "source": [
        "def tangencial_vector(a,b,x0,y0,theta, THETA= np.linspace(0,2*np.pi,100)):\n",
        "  Xpc = - a*np.sin(THETA);\n",
        "  Ypc =  b*np.cos(THETA);\n",
        "  M = np.array([[np.cos(theta), -np.sin(theta)],[ np.sin(theta), np.cos(theta)]])\n",
        "  Tp=np.dot(M,np.array([Xpc,Ypc]))\n",
        "  if len(Tp.shape)>1:\n",
        "    X=x0 +Tp[0,:]\n",
        "    Y=y0 +Tp[1,:]\n",
        "  else:\n",
        "    X=x0 +Tp[0]\n",
        "    Y=y0 +Tp[1]\n",
        "  return (X,Y)"
      ],
      "metadata": {
        "id": "V5vpcpt3zOsR"
      },
      "execution_count": 38,
      "outputs": []
    },
    {
      "cell_type": "code",
      "source": [
        "def verification(img, initial_mask):\n",
        "  M,_,_,_,PC,_,_=phasecong(img)\n",
        "  EDGE_FINAL=final_edges(initial_mask,inner_edge(thresh_pc(PC)))\n",
        "  x_data,y_data=coord(EDGE_FINAL)\n",
        "\n",
        "  _,th = cv2.threshold(equalize(M),0,255,cv2.THRESH_BINARY+cv2.THRESH_OTSU)\n",
        "  th=dilating(th,N=3)\n",
        "  for i in range(len(x_data)):\n",
        "    # we do not consider edges that are not in M (Momentum strong edge)\n",
        "    if th[y_data[i],x_data[i]]==0:\n",
        "        EDGE_FINAL[y_data[i],x_data[i]]=0\n",
        "  \n",
        "  # building the ellipse\n",
        "  a,b,x0,y0,theta=parameters(estimated_coef(coord(EDGE_FINAL)))\n",
        "  X,Y=ellipse(a,b,x0,y0,theta)\n",
        "\n",
        "  # GRADIENT IMAGE \n",
        "  sx = ndimage.sobel(img,axis=0,mode='constant')\n",
        "  sy = ndimage.sobel(img,axis=1,mode='constant')\n",
        "\n",
        "  verify=np.zeros(img.shape)\n",
        "\n",
        "  for i in range(len(y_data)):\n",
        "    # for each edge candidate we look for the nearest point in the ellipse\n",
        "    x_= x_data[i] - x0\n",
        "    y_= y_data[i] - y0\n",
        "\n",
        "    # TANGENCIAL VECTOR\n",
        "    Xp,Yp= tangencial_vector(a,b,x0,y0,theta, np.arctan2(y_, x_))\n",
        "    tv=np.array([Xp,Yp])\n",
        "\n",
        "    # GRADIENT VECTOR\n",
        "    dx, dy=sx[y_data[i],x_data[i]],sy[y_data[i],x_data[i]]\n",
        "    gv=np.array((dx,dy))\n",
        "\n",
        "    # calculate the cos between the tangencial and gradient vector\n",
        "    n=np.linalg.norm(tv)*np.linalg.norm(gv)\n",
        "    cos=np.dot(tv,gv)/n\n",
        "    if abs(cos)>1/np.sqrt(3):\n",
        "      verify[y_data[i],x_data[i]]=255\n",
        "\n",
        "  a,b,x0,y0,theta=parameters(estimated_coef(coord(verify)))\n",
        "  r_theta=lambda THETA: ellipse(a,b,x0,y0,theta,THETA-theta)\n",
        "  return(ellipse(a,b,x0,y0,theta), (x0,y0) , r_theta)"
      ],
      "metadata": {
        "id": "zqYGxcbfuFE4"
      },
      "execution_count": 39,
      "outputs": []
    },
    {
      "cell_type": "code",
      "source": [
        "def ZPdetection(path):\n",
        "  img=cv2.imread(path)\n",
        "  if len(img.shape)==3:\n",
        "    img = cv2.cvtColor(img, cv2.COLOR_BGR2GRAY)\n",
        "  # Initial Model\n",
        "  initial_mask=circularModel(img)\n",
        "  # Inner ZP Model\n",
        "  (X,Y),(x0,y0), r_theta=verification(img, initial_mask) \n",
        "  inner_mask=MaskModel(img,X,Y)\n",
        "  # Outer ZP Model\n",
        "  X,Y= outer_boundary(img,inner_mask,x0,y0,r_theta)\n",
        "  out_mask= MaskModel(img,X,Y)\n",
        "  return inner_mask,out_mask"
      ],
      "metadata": {
        "id": "kOPF0ojhKWIe"
      },
      "execution_count": 40,
      "outputs": []
    },
    {
      "cell_type": "code",
      "source": [
        "img=cv2.imread(files[0])\n",
        "if len(img.shape)==3:\n",
        "  img = cv2.cvtColor(img, cv2.COLOR_BGR2GRAY)\n",
        "initial_mask=circularModel(img)\n",
        "(X,Y),_,_=verification(img,initial_mask)\n",
        "(X1,Y1),_,_=inner_boundary(img,initial_mask)"
      ],
      "metadata": {
        "id": "FxToyp407EXX"
      },
      "execution_count": 41,
      "outputs": []
    },
    {
      "cell_type": "code",
      "source": [
        "plt.imshow(img)\n",
        "plt.plot(X,Y,'red')\n",
        "plt.plot(X1,Y1,'black')"
      ],
      "metadata": {
        "colab": {
          "base_uri": "https://localhost:8080/",
          "height": 286
        },
        "id": "L7IxI59JFEuE",
        "outputId": "16e48f84-da4d-417a-e398-326d6a71f63a"
      },
      "execution_count": 42,
      "outputs": [
        {
          "output_type": "execute_result",
          "data": {
            "text/plain": [
              "[<matplotlib.lines.Line2D at 0x7f85bb8fa910>]"
            ]
          },
          "metadata": {},
          "execution_count": 42
        },
        {
          "output_type": "display_data",
          "data": {
            "text/plain": [
              "<Figure size 432x288 with 1 Axes>"
            ],
            "image/png": "[encoded data removed]"
          },
          "metadata": {
            "needs_background": "light"
          }
        }
      ]
    },
    {
      "cell_type": "code",
      "source": [
        "start_time = time.time()\n",
        "inner_mask,out_mask=ZPdetection(files[0])\n",
        "print(\"--- %s seconds ---\" % (time.time() - start_time))"
      ],
      "metadata": {
        "colab": {
          "base_uri": "https://localhost:8080/"
        },
        "id": "lWVcfRIxSdig",
        "outputId": "d90a25f9-b65b-420a-8164-96581d6828e6"
      },
      "execution_count": 47,
      "outputs": [
        {
          "output_type": "stream",
          "name": "stdout",
          "text": [
            "--- 3.8731439113616943 seconds ---\n"
          ]
        }
      ]
    },
    {
      "cell_type": "code",
      "source": [
        "plt.imshow(inner_mask)"
      ],
      "metadata": {
        "colab": {
          "base_uri": "https://localhost:8080/",
          "height": 286
        },
        "outputId": "088baf43-2e01-41d6-9436-304bd773c7a8",
        "id": "4QaZTNkbR72j"
      },
      "execution_count": 45,
      "outputs": [
        {
          "output_type": "execute_result",
          "data": {
            "text/plain": [
              "<matplotlib.image.AxesImage at 0x7f85bb965df0>"
            ]
          },
          "metadata": {},
          "execution_count": 45
        },
        {
          "output_type": "display_data",
          "data": {
            "text/plain": [
              "<Figure size 432x288 with 1 Axes>"
            ],
            "image/png": "[encoded data removed]"
          },
          "metadata": {
            "needs_background": "light"
          }
        }
      ]
    },
    {
      "cell_type": "code",
      "source": [
        "plt.imshow(out_mask)"
      ],
      "metadata": {
        "colab": {
          "base_uri": "https://localhost:8080/",
          "height": 286
        },
        "outputId": "25f2b11e-94e5-4a43-e51e-eb7798c0656d",
        "id": "GAWUQGYSR72j"
      },
      "execution_count": 46,
      "outputs": [
        {
          "output_type": "execute_result",
          "data": {
            "text/plain": [
              "<matplotlib.image.AxesImage at 0x7f85b7310940>"
            ]
          },
          "metadata": {},
          "execution_count": 46
        },
        {
          "output_type": "display_data",
          "data": {
            "text/plain": [
              "<Figure size 432x288 with 1 Axes>"
            ],
            "image/png": "[encoded data removed]"
          },
          "metadata": {
            "needs_background": "light"
          }
        }
      ]
    }
  ]
}